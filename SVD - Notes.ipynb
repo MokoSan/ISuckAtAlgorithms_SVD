{
 "cells": [
  {
   "cell_type": "markdown",
   "metadata": {},
   "source": [
    "# Notes\n",
    "\n",
    "## Introduction\n",
    "\n",
    "1. Can be used for Data Reduction or Dimensionality Reduction: Reduces data to the __key__ features.\n",
    "2. Data Driven generalization of the Fast Fourier Transform.\n",
    "3. Solve linear system of equations for non-square matrices (in particular).\n",
    "4. Basis for Principal Component Analysis: Dimensionality Reduction distilled down to the key correlations that can be used to understand and model the data.\n",
    "5. Linear Algebra to make money.\n",
    "6. Very simple and interpretable Linear Algebra => Used in a variety of companies.\n",
    "7. Easily scalable.\n",
    "\n",
    "## Mathematical Overview\n",
    "\n",
    "$ \\mathbb{X} = "
   ]
  }
 ],
 "metadata": {
  "kernelspec": {
   "display_name": "Python 3",
   "language": "python",
   "name": "python3"
  },
  "language_info": {
   "codemirror_mode": {
    "name": "ipython",
    "version": 3
   },
   "file_extension": ".py",
   "mimetype": "text/x-python",
   "name": "python",
   "nbconvert_exporter": "python",
   "pygments_lexer": "ipython3",
   "version": "3.8.5"
  }
 },
 "nbformat": 4,
 "nbformat_minor": 4
}
